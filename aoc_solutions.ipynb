{
 "cells": [
  {
   "cell_type": "markdown",
   "metadata": {},
   "source": [
    "https://adventofcode.com/2022"
   ]
  },
  {
   "cell_type": "markdown",
   "metadata": {},
   "source": [
    "## DAY 1"
   ]
  },
  {
   "cell_type": "code",
   "execution_count": 1,
   "metadata": {},
   "outputs": [
    {
     "name": "stdout",
     "output_type": "stream",
     "text": [
      "Elf 152 has the most calories: 74394\n",
      "Sum of 3 biggest calories stacks: 212836\n"
     ]
    }
   ],
   "source": [
    "with open('./inputs/1/input', mode='r') as f:\n",
    "    calories_data = f.read().replace('\\n', ',').replace(',,', '\\n')\n",
    "    elfs = [(x, sum([int(y) for y in calories.split(',')]))\n",
    "            for x, calories in enumerate(calories_data.splitlines(), start=1)]\n",
    "\n",
    "    elfs_sorted = sorted(elfs, key=lambda el: el[1], reverse=True)\n",
    "\n",
    "    x = sum([x[1] for x in elfs_sorted[0:3]])\n",
    "\n",
    "print(f\"Elf {elfs_sorted[0][0]} has the most calories: {elfs_sorted[0][1]}\")\n",
    "print(f\"Sum of 3 biggest calories stacks: {x}\")"
   ]
  },
  {
   "cell_type": "code",
   "execution_count": 2,
   "metadata": {},
   "outputs": [
    {
     "name": "stdout",
     "output_type": "stream",
     "text": [
      "part 1: most callories = 74394\n",
      "part 2: sum of 3 biggest cal stacks: 212836\n"
     ]
    }
   ],
   "source": [
    "#day 1 (second solution)\n",
    "elf1 = 0\n",
    "elf2 = 0\n",
    "elf3 = 0\n",
    "kcal = 0\n",
    "with open('./1/input', mode='r') as f:\n",
    "    for line in f.readlines():\n",
    "        line = line.strip()\n",
    "        if line:\n",
    "            kcal += int(line)\n",
    "        else:\n",
    "            if kcal > elf1:\n",
    "                kcal, elf1 = elf1, kcal\n",
    "            if kcal > elf2:\n",
    "                kcal, elf2 = elf2, kcal\n",
    "            if kcal > elf3:\n",
    "                kcal, elf3 = elf3, kcal\n",
    "            kcal = 0\n",
    "\n",
    "print(f\"part 1: most callories = {elf1}\")\n",
    "print(f\"part 2: sum of 3 biggest cal stacks: {elf1+elf2+elf3}\")"
   ]
  },
  {
   "cell_type": "markdown",
   "metadata": {},
   "source": [
    "## DAY 2"
   ]
  },
  {
   "cell_type": "code",
   "execution_count": 5,
   "metadata": {},
   "outputs": [
    {
     "name": "stdout",
     "output_type": "stream",
     "text": [
      "PART 1: score=13924\n",
      "PART 2: score2=13448\n"
     ]
    }
   ],
   "source": [
    "def rps_round_score(opponent:str, player:str) -> int:\n",
    "\n",
    "    #draw\n",
    "    if opponent==player: \n",
    "        score = 3 \n",
    "    #loose\n",
    "    if (opponent,player) in [('A','C'),('B','A'),('C','B')]:\n",
    "        score = 0 \n",
    "    #win\n",
    "    if (opponent,player) in [('C','A'),('A','B'),('B','C')]: \n",
    "        score = 6 \n",
    "    \n",
    "    #add score for the shape:\n",
    "    if player == 'A':\n",
    "       score += 1 \n",
    "    if player == 'B':\n",
    "       score += 2 \n",
    "    if player == 'C':\n",
    "       score += 3 \n",
    "    return score \n",
    "\n",
    "def rps_round_map(round_data:str) -> int:\n",
    "    score = 0\n",
    "    opp, player = round_data[0], round_data[2]\n",
    "    if player == 'X':\n",
    "        player = 'A'\n",
    "\n",
    "    if player == 'Y':\n",
    "        player = 'B'\n",
    "\n",
    "    if player == 'Z':\n",
    "        player = 'C'\n",
    "\n",
    "    return rps_round_score(opp, player)\n",
    "\n",
    "def rps_round_map2(round_data:str) -> int:\n",
    "    score = 0\n",
    "    opponent, player = round_data[0], round_data[2]\n",
    "    rps_map='CABCA'\n",
    "\n",
    "    if player == 'X':\n",
    "        player = rps_map[rps_map.find(opponent,1)-1]\n",
    "\n",
    "    if player== 'Y':\n",
    "        player = rps_map[rps_map.find(opponent,1)]\n",
    "\n",
    "    if player == 'Z':\n",
    "        player = rps_map[rps_map.find(opponent,1)+1]\n",
    "\n",
    "    return rps_round_score(opponent, player)\n",
    "\n",
    "def solution():\n",
    "    score = 0\n",
    "    with open('./inputs/2/input', mode='r') as f:\n",
    "        score = sum(map(rps_round_map, f.readlines()))\n",
    "        f.seek(0)\n",
    "        score2 = sum(map(rps_round_map2, f.readlines()))\n",
    "    print(f\"PART 1: {score=}\")\n",
    "    print(f\"PART 2: {score2=}\")\n",
    "\n",
    "solution()"
   ]
  },
  {
   "cell_type": "markdown",
   "metadata": {},
   "source": [
    "## DAY 3"
   ]
  },
  {
   "cell_type": "markdown",
   "metadata": {},
   "source": [
    "Lowercase item types a 97 through z 122 have priorities 1 through 26. - (-96)\n",
    "Uppercase item types A 65 through Z 90 have priorities 27 through 52. - (-38)"
   ]
  },
  {
   "cell_type": "code",
   "execution_count": 4,
   "metadata": {},
   "outputs": [
    {
     "name": "stdout",
     "output_type": "stream",
     "text": [
      "priorities_sum=7903\n",
      "badges_sum=2548\n"
     ]
    }
   ],
   "source": [
    "def item_priority(item:int) -> int:\n",
    "    if 97 <= item <=122:\n",
    "        priority = item - 96\n",
    "    if 65 <= item <= 90:\n",
    "        priority = item - 38\n",
    "    # print (f\"{item=} {chr(item)} {priority=}\")\n",
    "    return priority\n",
    "\n",
    "priorities_sum = 0\n",
    "badges_sum = 0\n",
    "team = 0\n",
    "with open('./inputs/3/input', mode='rb') as f:\n",
    "    elf_sacks = f.readlines()\n",
    "    for line in elf_sacks:\n",
    "        sack=line.strip()\n",
    "        pocket_size = len(sack)//2\n",
    "        pocket_a, pocket_b = sack[:pocket_size], sack[pocket_size:]   \n",
    "        priorities_sum += next((item_priority(x) for x in pocket_a if x in pocket_b))\n",
    "\n",
    "    for elf in range(0,len(elf_sacks),3):\n",
    "        badges_sum += next(( item_priority(item) for item in elf_sacks[elf].strip()\n",
    "                                                 if item in elf_sacks[elf+1] and item in elf_sacks[elf+2]))\n",
    "\n",
    "\n",
    "print(f\"{priorities_sum=}\")\n",
    "print(f\"{badges_sum=}\")\n",
    "\n"
   ]
  },
  {
   "cell_type": "markdown",
   "metadata": {},
   "source": [
    "## DAY 4"
   ]
  },
  {
   "cell_type": "code",
   "execution_count": 2,
   "metadata": {},
   "outputs": [
    {
     "name": "stdout",
     "output_type": "stream",
     "text": [
      "contained_sections=582\n",
      "overlapped_sections=893\n"
     ]
    }
   ],
   "source": [
    "def sections_contain(section1, section2) -> bool:\n",
    "    if ((section1[0] <= section2[0] and section1[1] >= section2[1])\n",
    "        or (section2[0] <= section1[0] and section2[1] >= section1[1])):\n",
    "        return True\n",
    "    return False\n",
    "\n",
    "def sections_overlap(section1, section2) -> bool:\n",
    "    if (section1[0] > section2[1] or section1[1] < section2[0]):\n",
    "        return False\n",
    "    return True\n",
    "\n",
    "contained_sections = 0\n",
    "overlapped_sections = 0\n",
    "with open('./inputs/input4', mode='r') as f:\n",
    "    for line in f.readlines():\n",
    "        sections_pair = [[int(section_id) for section_id in section.split('-')] \n",
    "                            for section in line.strip().split(',')]\n",
    "        \n",
    "        if sections_contain(sections_pair[0], sections_pair[1]):\n",
    "            contained_sections += 1\n",
    "        if sections_overlap(sections_pair[0], sections_pair[1]):\n",
    "            overlapped_sections += 1\n",
    "\n",
    "print(f\"{contained_sections=}\")\n",
    "print(f\"{overlapped_sections=}\")"
   ]
  },
  {
   "cell_type": "markdown",
   "metadata": {},
   "source": [
    "## DAY 5"
   ]
  },
  {
   "cell_type": "code",
   "execution_count": 3,
   "metadata": {},
   "outputs": [
    {
     "name": "stdout",
     "output_type": "stream",
     "text": [
      "PART ONE TOP STACKS: TWSGQHNHL\n",
      "PART TWO TOP STACKS: JNRSCDWPP\n"
     ]
    }
   ],
   "source": [
    "def get_stacks_from_input(input) -> list:\n",
    "    stacks=[]\n",
    "    for stack in zip(*reversed(input[:-1])):\n",
    "        if stack[0] not in '[] ':\n",
    "            stacks.append([crate for crate in stack if crate != ' '])\n",
    "    return stacks\n",
    "\n",
    "def get_moves_from_input(input):\n",
    "    moves = input.split()\n",
    "    if len(moves) >= 6:\n",
    "        return int(moves[1]), int(moves[3]), int(moves[5])\n",
    "    else:\n",
    "        return 0,0,0\n",
    "\n",
    "stacks = []\n",
    "with open('./inputs/input5', mode='r') as f:\n",
    "    stacks_input = []\n",
    "    while line := f.readline():\n",
    "        if line == '\\n':\n",
    "            break\n",
    "        stacks_input.append(line.strip('\\n'))\n",
    "    stacks = get_stacks_from_input(stacks_input)\n",
    "    stacks2 = get_stacks_from_input(stacks_input)\n",
    "    \n",
    "    # move crates in stacks, input file read stopped at blank line so next we read only move commands\n",
    "    for moveline in f.readlines():\n",
    "        number_of_crates, from_stack, to_stack = get_moves_from_input(moveline)\n",
    "        # part 1 - move crate 1 by 1\n",
    "        for x in range(0,number_of_crates): \n",
    "            crate = stacks[from_stack-1].pop()  \n",
    "            stacks[to_stack-1].append(crate)    \n",
    "        # part 2 - move all crates at once\n",
    "        stacks2[from_stack-1],crates = stacks2[from_stack-1][0:-number_of_crates], stacks2[from_stack-1][-number_of_crates:]\n",
    "        stacks2[to_stack-1].extend(crates)  \n",
    "\n",
    "\n",
    "print('PART ONE TOP STACKS: ' + ''.join([stack[-1] for stack in stacks]))\n",
    "\n",
    "print('PART TWO TOP STACKS: ' + ''.join([stack[-1] for stack in stacks2]))"
   ]
  }
 ],
 "metadata": {
  "kernelspec": {
   "display_name": "Python 3.10.5 64-bit",
   "language": "python",
   "name": "python3"
  },
  "language_info": {
   "codemirror_mode": {
    "name": "ipython",
    "version": 3
   },
   "file_extension": ".py",
   "mimetype": "text/x-python",
   "name": "python",
   "nbconvert_exporter": "python",
   "pygments_lexer": "ipython3",
   "version": "3.10.5"
  },
  "orig_nbformat": 4,
  "vscode": {
   "interpreter": {
    "hash": "5cc6a2ffc2f42caba3b20713c391bbf0b6cbbea3c7cd8ffb6737f3c3c8d922ef"
   }
  }
 },
 "nbformat": 4,
 "nbformat_minor": 2
}
